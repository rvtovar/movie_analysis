{
 "cells": [
  {
   "cell_type": "markdown",
   "id": "6ba31cff",
   "metadata": {},
   "source": [
    "### Rose Tovar\n",
    "### TMDB Visual Exporlatory\n",
    "### 9/21/2022"
   ]
  },
  {
   "cell_type": "code",
   "execution_count": 1,
   "id": "3cb55bbb",
   "metadata": {},
   "outputs": [],
   "source": [
    "import pandas as pd\n",
    "import numpy as np\n",
    "import seaborn as sns\n",
    "import matplotlib.pyplot as plt"
   ]
  },
  {
   "cell_type": "code",
   "execution_count": 2,
   "id": "d405d9ef",
   "metadata": {},
   "outputs": [
    {
     "data": {
      "text/html": [
       "<div>\n",
       "<style scoped>\n",
       "    .dataframe tbody tr th:only-of-type {\n",
       "        vertical-align: middle;\n",
       "    }\n",
       "\n",
       "    .dataframe tbody tr th {\n",
       "        vertical-align: top;\n",
       "    }\n",
       "\n",
       "    .dataframe thead th {\n",
       "        text-align: right;\n",
       "    }\n",
       "</style>\n",
       "<table border=\"1\" class=\"dataframe\">\n",
       "  <thead>\n",
       "    <tr style=\"text-align: right;\">\n",
       "      <th></th>\n",
       "      <th>imdb_id</th>\n",
       "      <th>adult</th>\n",
       "      <th>backdrop_path</th>\n",
       "      <th>belongs_to_collection</th>\n",
       "      <th>budget</th>\n",
       "      <th>genres</th>\n",
       "      <th>homepage</th>\n",
       "      <th>id</th>\n",
       "      <th>original_language</th>\n",
       "      <th>original_title</th>\n",
       "      <th>...</th>\n",
       "      <th>revenue</th>\n",
       "      <th>runtime</th>\n",
       "      <th>spoken_languages</th>\n",
       "      <th>status</th>\n",
       "      <th>tagline</th>\n",
       "      <th>title</th>\n",
       "      <th>video</th>\n",
       "      <th>vote_average</th>\n",
       "      <th>vote_count</th>\n",
       "      <th>certifcation</th>\n",
       "    </tr>\n",
       "  </thead>\n",
       "  <tbody>\n",
       "    <tr>\n",
       "      <th>1</th>\n",
       "      <td>tt0113026</td>\n",
       "      <td>0.0</td>\n",
       "      <td>/vMFs7nw6P0bIV1jDsQpxAieAVnH.jpg</td>\n",
       "      <td>NaN</td>\n",
       "      <td>10000000.0</td>\n",
       "      <td>[{'id': 35, 'name': 'Comedy'}, {'id': 10402, '...</td>\n",
       "      <td>NaN</td>\n",
       "      <td>62127.0</td>\n",
       "      <td>en</td>\n",
       "      <td>The Fantasticks</td>\n",
       "      <td>...</td>\n",
       "      <td>0.0</td>\n",
       "      <td>86.0</td>\n",
       "      <td>[{'english_name': 'English', 'iso_639_1': 'en'...</td>\n",
       "      <td>Released</td>\n",
       "      <td>Try to remember the first time magic happened</td>\n",
       "      <td>The Fantasticks</td>\n",
       "      <td>0.0</td>\n",
       "      <td>5.5</td>\n",
       "      <td>22.0</td>\n",
       "      <td>NaN</td>\n",
       "    </tr>\n",
       "    <tr>\n",
       "      <th>2</th>\n",
       "      <td>tt0113092</td>\n",
       "      <td>0.0</td>\n",
       "      <td>NaN</td>\n",
       "      <td>NaN</td>\n",
       "      <td>0.0</td>\n",
       "      <td>[{'id': 878, 'name': 'Science Fiction'}]</td>\n",
       "      <td>NaN</td>\n",
       "      <td>110977.0</td>\n",
       "      <td>en</td>\n",
       "      <td>For the Cause</td>\n",
       "      <td>...</td>\n",
       "      <td>0.0</td>\n",
       "      <td>100.0</td>\n",
       "      <td>[{'english_name': 'English', 'iso_639_1': 'en'...</td>\n",
       "      <td>Released</td>\n",
       "      <td>The ultimate showdown on a forbidden planet.</td>\n",
       "      <td>For the Cause</td>\n",
       "      <td>0.0</td>\n",
       "      <td>5.1</td>\n",
       "      <td>8.0</td>\n",
       "      <td>NaN</td>\n",
       "    </tr>\n",
       "  </tbody>\n",
       "</table>\n",
       "<p>2 rows × 26 columns</p>\n",
       "</div>"
      ],
      "text/plain": [
       "     imdb_id  adult                     backdrop_path belongs_to_collection  \\\n",
       "1  tt0113026    0.0  /vMFs7nw6P0bIV1jDsQpxAieAVnH.jpg                   NaN   \n",
       "2  tt0113092    0.0                               NaN                   NaN   \n",
       "\n",
       "       budget                                             genres homepage  \\\n",
       "1  10000000.0  [{'id': 35, 'name': 'Comedy'}, {'id': 10402, '...      NaN   \n",
       "2         0.0           [{'id': 878, 'name': 'Science Fiction'}]      NaN   \n",
       "\n",
       "         id original_language   original_title  ... revenue  runtime  \\\n",
       "1   62127.0                en  The Fantasticks  ...     0.0     86.0   \n",
       "2  110977.0                en    For the Cause  ...     0.0    100.0   \n",
       "\n",
       "                                    spoken_languages    status  \\\n",
       "1  [{'english_name': 'English', 'iso_639_1': 'en'...  Released   \n",
       "2  [{'english_name': 'English', 'iso_639_1': 'en'...  Released   \n",
       "\n",
       "                                         tagline            title  video  \\\n",
       "1  Try to remember the first time magic happened  The Fantasticks    0.0   \n",
       "2   The ultimate showdown on a forbidden planet.    For the Cause    0.0   \n",
       "\n",
       "   vote_average vote_count certifcation  \n",
       "1           5.5       22.0          NaN  \n",
       "2           5.1        8.0          NaN  \n",
       "\n",
       "[2 rows x 26 columns]"
      ]
     },
     "execution_count": 2,
     "metadata": {},
     "output_type": "execute_result"
    }
   ],
   "source": [
    "# Uploading Data\n",
    "movies00 = pd.read_csv(\"./Data/final_tmdb_data_2000.csv.gz\", low_memory = False)\n",
    "#removing row 0 due to it being id 0 and all nan\n",
    "movies00.drop(0, inplace=True)\n",
    "movies00.head(2)"
   ]
  },
  {
   "cell_type": "code",
   "execution_count": 3,
   "id": "062f2182",
   "metadata": {},
   "outputs": [
    {
     "data": {
      "text/html": [
       "<div>\n",
       "<style scoped>\n",
       "    .dataframe tbody tr th:only-of-type {\n",
       "        vertical-align: middle;\n",
       "    }\n",
       "\n",
       "    .dataframe tbody tr th {\n",
       "        vertical-align: top;\n",
       "    }\n",
       "\n",
       "    .dataframe thead th {\n",
       "        text-align: right;\n",
       "    }\n",
       "</style>\n",
       "<table border=\"1\" class=\"dataframe\">\n",
       "  <thead>\n",
       "    <tr style=\"text-align: right;\">\n",
       "      <th></th>\n",
       "      <th>imdb_id</th>\n",
       "      <th>adult</th>\n",
       "      <th>backdrop_path</th>\n",
       "      <th>belongs_to_collection</th>\n",
       "      <th>budget</th>\n",
       "      <th>genres</th>\n",
       "      <th>homepage</th>\n",
       "      <th>id</th>\n",
       "      <th>original_language</th>\n",
       "      <th>original_title</th>\n",
       "      <th>...</th>\n",
       "      <th>revenue</th>\n",
       "      <th>runtime</th>\n",
       "      <th>spoken_languages</th>\n",
       "      <th>status</th>\n",
       "      <th>tagline</th>\n",
       "      <th>title</th>\n",
       "      <th>video</th>\n",
       "      <th>vote_average</th>\n",
       "      <th>vote_count</th>\n",
       "      <th>certifcation</th>\n",
       "    </tr>\n",
       "  </thead>\n",
       "  <tbody>\n",
       "    <tr>\n",
       "      <th>1</th>\n",
       "      <td>tt0035423</td>\n",
       "      <td>0.0</td>\n",
       "      <td>/ab5yL8zgRotrICzGbEl10z24N71.jpg</td>\n",
       "      <td>NaN</td>\n",
       "      <td>48000000.0</td>\n",
       "      <td>[{'id': 35, 'name': 'Comedy'}, {'id': 14, 'nam...</td>\n",
       "      <td>NaN</td>\n",
       "      <td>11232.0</td>\n",
       "      <td>en</td>\n",
       "      <td>Kate &amp; Leopold</td>\n",
       "      <td>...</td>\n",
       "      <td>76019048.0</td>\n",
       "      <td>118.0</td>\n",
       "      <td>[{'english_name': 'Italian', 'iso_639_1': 'it'...</td>\n",
       "      <td>Released</td>\n",
       "      <td>If they lived in the same century they'd be pe...</td>\n",
       "      <td>Kate &amp; Leopold</td>\n",
       "      <td>0.0</td>\n",
       "      <td>6.3</td>\n",
       "      <td>1141.0</td>\n",
       "      <td>PG-13</td>\n",
       "    </tr>\n",
       "    <tr>\n",
       "      <th>2</th>\n",
       "      <td>tt0114447</td>\n",
       "      <td>0.0</td>\n",
       "      <td>NaN</td>\n",
       "      <td>NaN</td>\n",
       "      <td>0.0</td>\n",
       "      <td>[{'id': 53, 'name': 'Thriller'}, {'id': 28, 'n...</td>\n",
       "      <td>NaN</td>\n",
       "      <td>151007.0</td>\n",
       "      <td>en</td>\n",
       "      <td>The Silent Force</td>\n",
       "      <td>...</td>\n",
       "      <td>0.0</td>\n",
       "      <td>90.0</td>\n",
       "      <td>[{'english_name': 'English', 'iso_639_1': 'en'...</td>\n",
       "      <td>Released</td>\n",
       "      <td>They left him for dead... They should have fin...</td>\n",
       "      <td>The Silent Force</td>\n",
       "      <td>0.0</td>\n",
       "      <td>5.0</td>\n",
       "      <td>3.0</td>\n",
       "      <td>NaN</td>\n",
       "    </tr>\n",
       "  </tbody>\n",
       "</table>\n",
       "<p>2 rows × 26 columns</p>\n",
       "</div>"
      ],
      "text/plain": [
       "     imdb_id  adult                     backdrop_path belongs_to_collection  \\\n",
       "1  tt0035423    0.0  /ab5yL8zgRotrICzGbEl10z24N71.jpg                   NaN   \n",
       "2  tt0114447    0.0                               NaN                   NaN   \n",
       "\n",
       "       budget                                             genres homepage  \\\n",
       "1  48000000.0  [{'id': 35, 'name': 'Comedy'}, {'id': 14, 'nam...      NaN   \n",
       "2         0.0  [{'id': 53, 'name': 'Thriller'}, {'id': 28, 'n...      NaN   \n",
       "\n",
       "         id original_language    original_title  ...     revenue  runtime  \\\n",
       "1   11232.0                en    Kate & Leopold  ...  76019048.0    118.0   \n",
       "2  151007.0                en  The Silent Force  ...         0.0     90.0   \n",
       "\n",
       "                                    spoken_languages    status  \\\n",
       "1  [{'english_name': 'Italian', 'iso_639_1': 'it'...  Released   \n",
       "2  [{'english_name': 'English', 'iso_639_1': 'en'...  Released   \n",
       "\n",
       "                                             tagline             title  video  \\\n",
       "1  If they lived in the same century they'd be pe...    Kate & Leopold    0.0   \n",
       "2  They left him for dead... They should have fin...  The Silent Force    0.0   \n",
       "\n",
       "   vote_average vote_count certifcation  \n",
       "1           6.3     1141.0        PG-13  \n",
       "2           5.0        3.0          NaN  \n",
       "\n",
       "[2 rows x 26 columns]"
      ]
     },
     "execution_count": 3,
     "metadata": {},
     "output_type": "execute_result"
    }
   ],
   "source": [
    "# Uploading Data\n",
    "movies01 = pd.read_csv(\"./Data/final_tmdb_data_2001.csv.gz\", low_memory = False)\n",
    "movies01.drop(0, inplace=True)\n",
    "movies01.head(2)"
   ]
  },
  {
   "cell_type": "code",
   "execution_count": 7,
   "id": "150b163a",
   "metadata": {},
   "outputs": [],
   "source": [
    "full_movie_data = pd.concat([movies00, movies01])"
   ]
  },
  {
   "cell_type": "code",
   "execution_count": 8,
   "id": "10455319",
   "metadata": {},
   "outputs": [
    {
     "name": "stdout",
     "output_type": "stream",
     "text": [
      "<class 'pandas.core.frame.DataFrame'>\n",
      "Int64Index: 2572 entries, 1 to 1321\n",
      "Data columns (total 26 columns):\n",
      " #   Column                 Non-Null Count  Dtype  \n",
      "---  ------                 --------------  -----  \n",
      " 0   imdb_id                2572 non-null   object \n",
      " 1   adult                  2572 non-null   float64\n",
      " 2   backdrop_path          1316 non-null   object \n",
      " 3   belongs_to_collection  197 non-null    object \n",
      " 4   budget                 2572 non-null   float64\n",
      " 5   genres                 2572 non-null   object \n",
      " 6   homepage               180 non-null    object \n",
      " 7   id                     2572 non-null   float64\n",
      " 8   original_language      2572 non-null   object \n",
      " 9   original_title         2572 non-null   object \n",
      " 10  overview               2516 non-null   object \n",
      " 11  popularity             2572 non-null   float64\n",
      " 12  poster_path            2252 non-null   object \n",
      " 13  production_companies   2572 non-null   object \n",
      " 14  production_countries   2572 non-null   object \n",
      " 15  release_date           2551 non-null   object \n",
      " 16  revenue                2572 non-null   float64\n",
      " 17  runtime                2572 non-null   float64\n",
      " 18  spoken_languages       2572 non-null   object \n",
      " 19  status                 2572 non-null   object \n",
      " 20  tagline                1060 non-null   object \n",
      " 21  title                  2572 non-null   object \n",
      " 22  video                  2572 non-null   float64\n",
      " 23  vote_average           2572 non-null   float64\n",
      " 24  vote_count             2572 non-null   float64\n",
      " 25  certifcation           800 non-null    object \n",
      "dtypes: float64(9), object(17)\n",
      "memory usage: 542.5+ KB\n"
     ]
    }
   ],
   "source": [
    "full_movie_data.info()"
   ]
  },
  {
   "cell_type": "markdown",
   "id": "02fd8f4a",
   "metadata": {},
   "source": [
    "### Downloading Combined copy of dataframe"
   ]
  },
  {
   "cell_type": "code",
   "execution_count": 9,
   "id": "a88aaef4",
   "metadata": {},
   "outputs": [],
   "source": [
    "full_movie_data.to_csv(f\"Data/tmdb_results_combined.csv.gz\", compression=\"gzip\", index=False)\n"
   ]
  },
  {
   "cell_type": "markdown",
   "id": "3030f044",
   "metadata": {},
   "source": [
    "### Data Visualization"
   ]
  },
  {
   "cell_type": "code",
   "execution_count": 11,
   "id": "a2609a7e",
   "metadata": {},
   "outputs": [],
   "source": [
    "# Setting up Visualization Features\n",
    "# Setting up Default Settings for plots\n",
    "sns.set_context('talk')\n",
    "plt.style.use(['bmh', 'seaborn'])\n",
    "plt.rcParams['font.family'] = 'serif'\n",
    "plt.rcParams['axes.grid'] = False"
   ]
  },
  {
   "cell_type": "code",
   "execution_count": 14,
   "id": "152c9910",
   "metadata": {},
   "outputs": [
    {
     "name": "stdout",
     "output_type": "stream",
     "text": [
      "<class 'pandas.core.frame.DataFrame'>\n",
      "Int64Index: 349 entries, 4 to 1273\n",
      "Data columns (total 26 columns):\n",
      " #   Column                 Non-Null Count  Dtype  \n",
      "---  ------                 --------------  -----  \n",
      " 0   imdb_id                349 non-null    object \n",
      " 1   adult                  349 non-null    float64\n",
      " 2   backdrop_path          337 non-null    object \n",
      " 3   belongs_to_collection  84 non-null     object \n",
      " 4   budget                 349 non-null    float64\n",
      " 5   genres                 349 non-null    object \n",
      " 6   homepage               57 non-null     object \n",
      " 7   id                     349 non-null    float64\n",
      " 8   original_language      349 non-null    object \n",
      " 9   original_title         349 non-null    object \n",
      " 10  overview               349 non-null    object \n",
      " 11  popularity             349 non-null    float64\n",
      " 12  poster_path            349 non-null    object \n",
      " 13  production_companies   349 non-null    object \n",
      " 14  production_countries   349 non-null    object \n",
      " 15  release_date           349 non-null    object \n",
      " 16  revenue                349 non-null    float64\n",
      " 17  runtime                349 non-null    float64\n",
      " 18  spoken_languages       349 non-null    object \n",
      " 19  status                 349 non-null    object \n",
      " 20  tagline                316 non-null    object \n",
      " 21  title                  349 non-null    object \n",
      " 22  video                  349 non-null    float64\n",
      " 23  vote_average           349 non-null    float64\n",
      " 24  vote_count             349 non-null    float64\n",
      " 25  certifcation           305 non-null    object \n",
      "dtypes: float64(9), object(17)\n",
      "memory usage: 73.6+ KB\n"
     ]
    }
   ],
   "source": [
    "valid_budget = full_movie_data[(full_movie_data['budget'] > 0) & (full_movie_data['revenue'] > 0)]\n",
    "# We have 349 movies left for valid budgets and revenue\n",
    "valid_budget.info()"
   ]
  },
  {
   "cell_type": "code",
   "execution_count": 27,
   "id": "c0195db3",
   "metadata": {},
   "outputs": [
    {
     "data": {
      "image/png": "[encoded data removed]",
      "text/plain": [
       "<Figure size 1000x700 with 1 Axes>"
      ]
     },
     "metadata": {},
     "output_type": "display_data"
    }
   ],
   "source": [
    "fig, ax = plt.subplots(figsize=(10,7))\n",
    "sns.countplot(data=valid_budget, x='certifcation', ax=ax)\n",
    "ax.set_xlabel(\"Certifcation\", fontsize=18,labelpad=15)\n",
    "ax.set_title('Number of Movies per rating', fontsize=20)\n",
    "ax.tick_params(axis = 'both', which = 'major', labelsize = 15)\n",
    "plt.tight_layout()"
   ]
  },
  {
   "cell_type": "code",
   "execution_count": 25,
   "id": "2a718235",
   "metadata": {},
   "outputs": [
    {
     "data": {
      "image/png": "[encoded data removed]",
      "text/plain": [
       "<Figure size 1000x700 with 1 Axes>"
      ]
     },
     "metadata": {},
     "output_type": "display_data"
    }
   ],
   "source": [
    "fig, ax = plt.subplots(figsize=(10,7))\n",
    "sns.barplot(data=valid_budget, x='certifcation',y='revenue',ci=None)\n",
    "ax.set_xlabel('Certification', fontsize=18, labelpad=15)\n",
    "ax.set_ylabel(\"Revenue\", fontsize=18)\n",
    "ax.set_title('Revenue per Rating', fontsize=20)\n",
    "ax.tick_params(axis='both', which='major', labelsize=15)\n",
    "plt.tight_layout()"
   ]
  },
  {
   "cell_type": "markdown",
   "id": "60d3931e",
   "metadata": {},
   "source": [
    "### Analysis"
   ]
  },
  {
   "cell_type": "markdown",
   "id": "49faecaf",
   "metadata": {},
   "source": [
    "On Avearage rated PG movies made about 130,000,000 in revenue, The rated R movies made around 60,000,000, Rated G movies made around 130,000,000, PG-13 made around 110,000,000, and finally NR made 20,000,000 in revenue"
   ]
  },
  {
   "cell_type": "code",
   "execution_count": 23,
   "id": "f355b1e1",
   "metadata": {},
   "outputs": [
    {
     "data": {
      "image/png": "[encoded data removed]",
      "text/plain": [
       "<Figure size 1000x700 with 1 Axes>"
      ]
     },
     "metadata": {},
     "output_type": "display_data"
    }
   ],
   "source": [
    "fig, ax = plt.subplots(figsize=(10,7))\n",
    "sns.barplot(data=valid_budget, x='certifcation',y='budget',ci=None)\n",
    "ax.set_xlabel('Certification', fontsize=18, labelpad=15)\n",
    "ax.set_ylabel(\"Budget\", fontsize=18)\n",
    "ax.set_title('Budget per Rating', fontsize=20)\n",
    "ax.tick_params(axis='both', which='major', labelsize=15)\n",
    "plt.tight_layout()"
   ]
  },
  {
   "cell_type": "markdown",
   "id": "c9eabf1d",
   "metadata": {},
   "source": [
    "#### Analysis"
   ]
  },
  {
   "cell_type": "markdown",
   "id": "2b506132",
   "metadata": {},
   "source": [
    "We have about 50,000,000 million for spent on PG Movies, just about 30,000,000, for rated R, 40,000,000, on G and PG-13 Movies, and finally 15,000,000, on NR Movies. "
   ]
  },
  {
   "cell_type": "code",
   "execution_count": null,
   "id": "29f7cf8c",
   "metadata": {},
   "outputs": [],
   "source": []
  }
 ],
 "metadata": {
  "kernelspec": {
   "display_name": "Python (dojo-env)",
   "language": "python",
   "name": "dojo-env"
  },
  "language_info": {
   "codemirror_mode": {
    "name": "ipython",
    "version": 3
   },
   "file_extension": ".py",
   "mimetype": "text/x-python",
   "name": "python",
   "nbconvert_exporter": "python",
   "pygments_lexer": "ipython3",
   "version": "3.8.13"
  },
  "toc": {
   "base_numbering": 1,
   "nav_menu": {},
   "number_sections": true,
   "sideBar": true,
   "skip_h1_title": false,
   "title_cell": "Table of Contents",
   "title_sidebar": "Contents",
   "toc_cell": false,
   "toc_position": {},
   "toc_section_display": true,
   "toc_window_display": false
  }
 },
 "nbformat": 4,
 "nbformat_minor": 5
}
